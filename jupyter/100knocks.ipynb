{
 "cells": [
  {
   "cell_type": "code",
   "execution_count": 4,
   "id": "04b29468-d20f-4778-afa0-ab02a3118953",
   "metadata": {},
   "outputs": [],
   "source": [
    "import json\n",
    "\n",
    "import requests"
   ]
  },
  {
   "cell_type": "code",
   "execution_count": 2,
   "id": "7a6753dd-4578-4cd7-a7b9-6250ca0f1d05",
   "metadata": {},
   "outputs": [],
   "source": [
    "domain = 'http://nginx/'"
   ]
  },
  {
   "cell_type": "markdown",
   "id": "0bf673ea-6796-476e-a27a-5a566af164a9",
   "metadata": {},
   "source": [
    "P-001: レシート明細データ（df_receipt）から全項目の先頭10件を表示し、どのようなデータを保有しているか目視で確認せよ。"
   ]
  },
  {
   "cell_type": "code",
   "execution_count": 7,
   "id": "3d4a1b11-eb9a-425c-9063-bf4f81dc7657",
   "metadata": {},
   "outputs": [
    {
     "name": "stdout",
     "output_type": "stream",
     "text": [
      "{'sales_ymd': 20181103, 'store_cd': 'S14006', 'receipt_no': 112, 'receipt_sub_no': 1, 'sales_epoch': 1541203200, 'customer_id': 'CS006214000001', 'product_cd': 'P070305012', 'quantity': 1, 'amount': 158}\n",
      "{'sales_ymd': 20181118, 'store_cd': 'S13008', 'receipt_no': 1132, 'receipt_sub_no': 2, 'sales_epoch': 1542499200, 'customer_id': 'CS008415000097', 'product_cd': 'P070701017', 'quantity': 1, 'amount': 81}\n",
      "{'sales_ymd': 20170712, 'store_cd': 'S14028', 'receipt_no': 1102, 'receipt_sub_no': 1, 'sales_epoch': 1499817600, 'customer_id': 'CS028414000014', 'product_cd': 'P060101005', 'quantity': 1, 'amount': 170}\n",
      "{'sales_ymd': 20190205, 'store_cd': 'S14042', 'receipt_no': 1132, 'receipt_sub_no': 1, 'sales_epoch': 1549324800, 'customer_id': 'ZZ000000000000', 'product_cd': 'P050301001', 'quantity': 1, 'amount': 25}\n",
      "{'sales_ymd': 20180821, 'store_cd': 'S14025', 'receipt_no': 1102, 'receipt_sub_no': 2, 'sales_epoch': 1534809600, 'customer_id': 'CS025415000050', 'product_cd': 'P060102007', 'quantity': 1, 'amount': 90}\n",
      "{'sales_ymd': 20190605, 'store_cd': 'S13003', 'receipt_no': 1112, 'receipt_sub_no': 1, 'sales_epoch': 1559692800, 'customer_id': 'CS003515000195', 'product_cd': 'P050102002', 'quantity': 1, 'amount': 138}\n",
      "{'sales_ymd': 20181205, 'store_cd': 'S14024', 'receipt_no': 1102, 'receipt_sub_no': 2, 'sales_epoch': 1543968000, 'customer_id': 'CS024514000042', 'product_cd': 'P080101005', 'quantity': 1, 'amount': 30}\n",
      "{'sales_ymd': 20190922, 'store_cd': 'S14040', 'receipt_no': 1102, 'receipt_sub_no': 1, 'sales_epoch': 1569110400, 'customer_id': 'CS040415000178', 'product_cd': 'P070501004', 'quantity': 1, 'amount': 128}\n",
      "{'sales_ymd': 20170504, 'store_cd': 'S13020', 'receipt_no': 1112, 'receipt_sub_no': 2, 'sales_epoch': 1493856000, 'customer_id': 'ZZ000000000000', 'product_cd': 'P071302010', 'quantity': 1, 'amount': 770}\n",
      "{'sales_ymd': 20191010, 'store_cd': 'S14027', 'receipt_no': 1102, 'receipt_sub_no': 1, 'sales_epoch': 1570665600, 'customer_id': 'CS027514000015', 'product_cd': 'P071101003', 'quantity': 1, 'amount': 680}\n"
     ]
    }
   ],
   "source": [
    "url = 'api/receipt/list/?limit=10'\n",
    "response = requests.get(domain + url).text\n",
    "for row in json.loads(response):\n",
    "    print(row)"
   ]
  },
  {
   "cell_type": "markdown",
   "id": "43cf090b-7965-4fc9-929f-2667530a0f5a",
   "metadata": {},
   "source": [
    "P-002: レシート明細データ（df_receipt）から売上年月日（sales_ymd）、顧客ID（customer_id）、商品コード（product_cd）、売上金額（amount）の順に列を指定し、10件表示せよ。"
   ]
  },
  {
   "cell_type": "code",
   "execution_count": 14,
   "id": "f6902130-2830-44e5-a8e5-eced854d157a",
   "metadata": {},
   "outputs": [
    {
     "name": "stdout",
     "output_type": "stream",
     "text": [
      "{'sales_ymd': 20181103, 'customer_id': 'CS006214000001', 'product_cd': 'P070305012', 'amount': 158}\n",
      "{'sales_ymd': 20181118, 'customer_id': 'CS008415000097', 'product_cd': 'P070701017', 'amount': 81}\n",
      "{'sales_ymd': 20170712, 'customer_id': 'CS028414000014', 'product_cd': 'P060101005', 'amount': 170}\n",
      "{'sales_ymd': 20190205, 'customer_id': 'ZZ000000000000', 'product_cd': 'P050301001', 'amount': 25}\n",
      "{'sales_ymd': 20180821, 'customer_id': 'CS025415000050', 'product_cd': 'P060102007', 'amount': 90}\n",
      "{'sales_ymd': 20190605, 'customer_id': 'CS003515000195', 'product_cd': 'P050102002', 'amount': 138}\n",
      "{'sales_ymd': 20181205, 'customer_id': 'CS024514000042', 'product_cd': 'P080101005', 'amount': 30}\n",
      "{'sales_ymd': 20190922, 'customer_id': 'CS040415000178', 'product_cd': 'P070501004', 'amount': 128}\n",
      "{'sales_ymd': 20170504, 'customer_id': 'ZZ000000000000', 'product_cd': 'P071302010', 'amount': 770}\n",
      "{'sales_ymd': 20191010, 'customer_id': 'CS027514000015', 'product_cd': 'P071101003', 'amount': 680}\n"
     ]
    }
   ],
   "source": [
    "columns = ['sales_ymd', 'customer_id', 'product_cd', 'amount']\n",
    "columns_query = '&'.join([f'columns={column}' for column in columns])\n",
    "url = 'api/receipt/list/?limit=10&' + columns_query\n",
    "response = requests.get(domain + url).text\n",
    "for row in json.loads(response):\n",
    "    extracted_data = {key: value for key, value in row.items() if value is not None}\n",
    "    print(extracted_data)"
   ]
  },
  {
   "cell_type": "markdown",
   "id": "9de8df93-6d7f-4823-a672-624febda2a4f",
   "metadata": {},
   "source": [
    "P-003: レシート明細データ（df_receipt）から売上年月日（sales_ymd）、顧客ID（customer_id）、商品コード（product_cd）、売上金額（amount）の順に列を指定し、10件表示せよ。ただし、sales_ymdをsales_dateに項目名を変更して抽出すること。"
   ]
  },
  {
   "cell_type": "code",
   "execution_count": 16,
   "id": "53aaa50c-5560-4632-a733-48ec69152513",
   "metadata": {},
   "outputs": [
    {
     "name": "stdout",
     "output_type": "stream",
     "text": [
      "{'sales_date': 20181103, 'customer_id': 'CS006214000001', 'product_cd': 'P070305012', 'amount': 158}\n",
      "{'sales_date': 20181118, 'customer_id': 'CS008415000097', 'product_cd': 'P070701017', 'amount': 81}\n",
      "{'sales_date': 20170712, 'customer_id': 'CS028414000014', 'product_cd': 'P060101005', 'amount': 170}\n",
      "{'sales_date': 20190205, 'customer_id': 'ZZ000000000000', 'product_cd': 'P050301001', 'amount': 25}\n",
      "{'sales_date': 20180821, 'customer_id': 'CS025415000050', 'product_cd': 'P060102007', 'amount': 90}\n",
      "{'sales_date': 20190605, 'customer_id': 'CS003515000195', 'product_cd': 'P050102002', 'amount': 138}\n",
      "{'sales_date': 20181205, 'customer_id': 'CS024514000042', 'product_cd': 'P080101005', 'amount': 30}\n",
      "{'sales_date': 20190922, 'customer_id': 'CS040415000178', 'product_cd': 'P070501004', 'amount': 128}\n",
      "{'sales_date': 20170504, 'customer_id': 'ZZ000000000000', 'product_cd': 'P071302010', 'amount': 770}\n",
      "{'sales_date': 20191010, 'customer_id': 'CS027514000015', 'product_cd': 'P071101003', 'amount': 680}\n"
     ]
    }
   ],
   "source": [
    "columns = ['sales_ymd', 'customer_id', 'product_cd', 'amount']\n",
    "columns_query = '&'.join([f'columns={column}' for column in columns])\n",
    "url = 'api/receipt/list/?limit=10&' + columns_query\n",
    "response = requests.get(domain + url).text\n",
    "\n",
    "for row in json.loads(response):\n",
    "    extracted_data = {key.replace('sales_ymd', 'sales_date'): value for key, value in row.items() if value is not None}\n",
    "    print(extracted_data)"
   ]
  },
  {
   "cell_type": "markdown",
   "id": "c0dc2e56-360e-4ca2-8fb8-1b32d231e448",
   "metadata": {},
   "source": [
    "P-004: レシート明細データ（df_receipt）から売上日（sales_ymd）、顧客ID（customer_id）、商品コード（product_cd）、売上金額（amount）の順に列を指定し、以下の条件を満たすデータを抽出せよ。\n",
    "\n",
    "- 顧客ID（customer_id）が\"CS018205000001\""
   ]
  },
  {
   "cell_type": "code",
   "execution_count": 17,
   "id": "cff7459e-c2ca-4cb9-82c3-86bae65790b3",
   "metadata": {},
   "outputs": [
    {
     "name": "stdout",
     "output_type": "stream",
     "text": [
      "{'sales_ymd': 20180911, 'customer_id': 'CS018205000001', 'product_cd': 'P071401012', 'amount': 2200}\n",
      "{'sales_ymd': 20180414, 'customer_id': 'CS018205000001', 'product_cd': 'P060104007', 'amount': 600}\n",
      "{'sales_ymd': 20170614, 'customer_id': 'CS018205000001', 'product_cd': 'P050206001', 'amount': 990}\n",
      "{'sales_ymd': 20170614, 'customer_id': 'CS018205000001', 'product_cd': 'P060702015', 'amount': 108}\n",
      "{'sales_ymd': 20190216, 'customer_id': 'CS018205000001', 'product_cd': 'P071005024', 'amount': 102}\n",
      "{'sales_ymd': 20180414, 'customer_id': 'CS018205000001', 'product_cd': 'P071101002', 'amount': 278}\n",
      "{'sales_ymd': 20190226, 'customer_id': 'CS018205000001', 'product_cd': 'P070902035', 'amount': 168}\n",
      "{'sales_ymd': 20190924, 'customer_id': 'CS018205000001', 'product_cd': 'P060805001', 'amount': 495}\n",
      "{'sales_ymd': 20190226, 'customer_id': 'CS018205000001', 'product_cd': 'P071401020', 'amount': 2200}\n",
      "{'sales_ymd': 20180911, 'customer_id': 'CS018205000001', 'product_cd': 'P071401005', 'amount': 1100}\n",
      "{'sales_ymd': 20190216, 'customer_id': 'CS018205000001', 'product_cd': 'P040101002', 'amount': 218}\n",
      "{'sales_ymd': 20190924, 'customer_id': 'CS018205000001', 'product_cd': 'P091503001', 'amount': 280}\n"
     ]
    }
   ],
   "source": [
    "columns = ['sales_ymd', 'customer_id', 'product_cd', 'amount']\n",
    "columns_query = '&'.join([f'columns={column}' for column in columns])\n",
    "url = 'api/receipt/list/CS018205000001?' + columns_query\n",
    "response = requests.get(domain + url).text\n",
    "\n",
    "for row in json.loads(response):\n",
    "    extracted_data = {key: value for key, value in row.items() if value is not None}\n",
    "    print(extracted_data)"
   ]
  },
  {
   "cell_type": "markdown",
   "id": "737219d7-4106-4661-a1aa-88fb159322ae",
   "metadata": {},
   "source": [
    "P-005: レシート明細データ（df_receipt）から売上日（sales_ymd）、顧客ID（customer_id）、商品コード（product_cd）、売上金額（amount）の順に列を指定し、以下の全ての条件を満たすデータを抽出せよ。\n",
    "\n",
    "- 顧客ID（customer_id）が\"CS018205000001\"\n",
    "- 売上金額（amount）が1,000以上"
   ]
  },
  {
   "cell_type": "code",
   "execution_count": 18,
   "id": "757572b8-613c-4d02-905a-0e02b7b14696",
   "metadata": {},
   "outputs": [
    {
     "name": "stdout",
     "output_type": "stream",
     "text": [
      "{'sales_ymd': 20180911, 'customer_id': 'CS018205000001', 'product_cd': 'P071401012', 'amount': 2200}\n",
      "{'sales_ymd': 20190226, 'customer_id': 'CS018205000001', 'product_cd': 'P071401020', 'amount': 2200}\n",
      "{'sales_ymd': 20180911, 'customer_id': 'CS018205000001', 'product_cd': 'P071401005', 'amount': 1100}\n"
     ]
    }
   ],
   "source": [
    "columns = ['sales_ymd', 'customer_id', 'product_cd', 'amount']\n",
    "columns_query = '&'.join([f'columns={column}' for column in columns])\n",
    "url = 'api/receipt/list/CS018205000001?' + columns_query + '&amount_min=1000'\n",
    "response = requests.get(domain + url).text\n",
    "\n",
    "for row in json.loads(response):\n",
    "    extracted_data = {key: value for key, value in row.items() if value is not None}\n",
    "    print(extracted_data)"
   ]
  },
  {
   "cell_type": "markdown",
   "id": "fc84329b-eb33-4393-8fc9-695cfa9f78ad",
   "metadata": {},
   "source": [
    "P-006: レシート明細データ（df_receipt）から売上日（sales_ymd）、顧客ID（customer_id）、商品コード（product_cd）、売上数量（quantity）、売上金額（amount）の順に列を指定し、以下の全ての条件を満たすデータを抽出せよ。\n",
    "\n",
    "- 顧客ID（customer_id）が\"CS018205000001\"\n",
    "- 売上金額（amount）が1,000以上または売上数量（quantity）が5以上"
   ]
  },
  {
   "cell_type": "code",
   "execution_count": 19,
   "id": "92124cbb-1cc7-4237-a4e1-c04ec6cd8718",
   "metadata": {},
   "outputs": [
    {
     "name": "stdout",
     "output_type": "stream",
     "text": [
      "{'sales_ymd': 20180911, 'customer_id': 'CS018205000001', 'product_cd': 'P071401012', 'amount': 2200}\n",
      "{'sales_ymd': 20190226, 'customer_id': 'CS018205000001', 'product_cd': 'P071401020', 'amount': 2200}\n",
      "{'sales_ymd': 20180911, 'customer_id': 'CS018205000001', 'product_cd': 'P071401005', 'amount': 1100}\n",
      "{'sales_ymd': 20180414, 'customer_id': 'CS018205000001', 'product_cd': 'P060104007', 'amount': 600}\n",
      "{'sales_ymd': 20170614, 'customer_id': 'CS018205000001', 'product_cd': 'P050206001', 'amount': 990}\n"
     ]
    }
   ],
   "source": [
    "columns = ['sales_ymd', 'customer_id', 'product_cd', 'amount']\n",
    "columns_query = '&'.join([f'columns={column}' for column in columns])\n",
    "url = 'api/receipt/list/CS018205000001?' + columns_query + '&amount_min=1000'\n",
    "response = requests.get(domain + url).text\n",
    "\n",
    "for row in json.loads(response):\n",
    "    extracted_data = {key: value for key, value in row.items() if value is not None}\n",
    "    print(extracted_data)\n",
    "\n",
    "columns = ['sales_ymd', 'customer_id', 'product_cd', 'amount']\n",
    "columns_query = '&'.join([f'columns={column}' for column in columns])\n",
    "url = 'api/receipt/list/CS018205000001?' + columns_query + '&amount_max=999&quantity_min=5'\n",
    "response = requests.get(domain + url).text\n",
    "\n",
    "for row in json.loads(response):\n",
    "    extracted_data = {key: value for key, value in row.items() if value is not None}\n",
    "    print(extracted_data)"
   ]
  },
  {
   "cell_type": "markdown",
   "id": "170ae162-f69a-4369-abd6-29a35954ade2",
   "metadata": {},
   "source": [
    "P-007: レシート明細データ（df_receipt）から売上日（sales_ymd）、顧客ID（customer_id）、商品コード（product_cd）、売上金額（amount）の順に列を指定し、以下の全ての条件を満たすデータを抽出せよ。\n",
    "\n",
    "- 顧客ID（customer_id）が\"CS018205000001\"\n",
    "- 売上金額（amount）が1,000以上2,000以下"
   ]
  },
  {
   "cell_type": "code",
   "execution_count": 20,
   "id": "1eef544c-4d49-4cfc-9a68-4c4e39acfdf3",
   "metadata": {},
   "outputs": [
    {
     "name": "stdout",
     "output_type": "stream",
     "text": [
      "{'sales_ymd': 20180911, 'customer_id': 'CS018205000001', 'product_cd': 'P071401005', 'amount': 1100}\n"
     ]
    }
   ],
   "source": [
    "columns = ['sales_ymd', 'customer_id', 'product_cd', 'amount']\n",
    "columns_query = '&'.join([f'columns={column}' for column in columns])\n",
    "url = 'api/receipt/list/CS018205000001?' + columns_query + '&amount_min=1000&amount_max=2000'\n",
    "response = requests.get(domain + url).text\n",
    "\n",
    "for row in json.loads(response):\n",
    "    extracted_data = {key: value for key, value in row.items() if value is not None}\n",
    "    print(extracted_data)"
   ]
  },
  {
   "cell_type": "markdown",
   "id": "0e8864df-1777-44d8-ab52-9801062a9c06",
   "metadata": {},
   "source": [
    "P-008: レシート明細データ（df_receipt）から売上日（sales_ymd）、顧客ID（customer_id）、商品コード（product_cd）、売上金額（amount）の順に列を指定し、以下の全ての条件を満たすデータを抽出せよ。\n",
    "\n",
    "- 顧客ID（customer_id）が\"CS018205000001\"\n",
    "- 商品コード（product_cd）が\"P071401019\"以外"
   ]
  },
  {
   "cell_type": "code",
   "execution_count": 21,
   "id": "dd9c7ba0-88d7-4ae0-a14b-bb3357fab0b9",
   "metadata": {},
   "outputs": [
    {
     "name": "stdout",
     "output_type": "stream",
     "text": [
      "{'sales_ymd': 20180911, 'customer_id': 'CS018205000001', 'product_cd': 'P071401012', 'amount': 2200}\n",
      "{'sales_ymd': 20180414, 'customer_id': 'CS018205000001', 'product_cd': 'P060104007', 'amount': 600}\n",
      "{'sales_ymd': 20170614, 'customer_id': 'CS018205000001', 'product_cd': 'P050206001', 'amount': 990}\n",
      "{'sales_ymd': 20170614, 'customer_id': 'CS018205000001', 'product_cd': 'P060702015', 'amount': 108}\n",
      "{'sales_ymd': 20190216, 'customer_id': 'CS018205000001', 'product_cd': 'P071005024', 'amount': 102}\n",
      "{'sales_ymd': 20180414, 'customer_id': 'CS018205000001', 'product_cd': 'P071101002', 'amount': 278}\n",
      "{'sales_ymd': 20190226, 'customer_id': 'CS018205000001', 'product_cd': 'P070902035', 'amount': 168}\n",
      "{'sales_ymd': 20190924, 'customer_id': 'CS018205000001', 'product_cd': 'P060805001', 'amount': 495}\n",
      "{'sales_ymd': 20190226, 'customer_id': 'CS018205000001', 'product_cd': 'P071401020', 'amount': 2200}\n",
      "{'sales_ymd': 20180911, 'customer_id': 'CS018205000001', 'product_cd': 'P071401005', 'amount': 1100}\n",
      "{'sales_ymd': 20190216, 'customer_id': 'CS018205000001', 'product_cd': 'P040101002', 'amount': 218}\n",
      "{'sales_ymd': 20190924, 'customer_id': 'CS018205000001', 'product_cd': 'P091503001', 'amount': 280}\n"
     ]
    }
   ],
   "source": [
    "columns = ['sales_ymd', 'customer_id', 'product_cd', 'amount']\n",
    "columns_query = '&'.join([f'columns={column}' for column in columns])\n",
    "url = 'api/receipt/list/CS018205000001?' + columns_query + '&excluded_product_cd=P071401019'\n",
    "response = requests.get(domain + url).text\n",
    "\n",
    "for row in json.loads(response):\n",
    "    extracted_data = {key: value for key, value in row.items() if value is not None}\n",
    "    print(extracted_data)"
   ]
  },
  {
   "cell_type": "markdown",
   "id": "9678c7a5-bb18-436d-ad71-cd5a4de72522",
   "metadata": {},
   "source": [
    "P-009: 以下の処理において、出力結果を変えずにORをANDに書き換えよ。\n",
    "\n",
    "`df_store.query('not(prefecture_cd == \"13\" | floor_area > 900)')`"
   ]
  },
  {
   "cell_type": "code",
   "execution_count": 24,
   "id": "e0aa3190-e676-4e3f-84f8-9352a93c2d4a",
   "metadata": {},
   "outputs": [
    {
     "data": {
      "text/plain": [
       "True"
      ]
     },
     "execution_count": 24,
     "metadata": {},
     "output_type": "execute_result"
    }
   ],
   "source": [
    "import pandas as pd\n",
    "from sqlalchemy import create_engine, URL\n",
    "\n",
    "url_object = URL.create(\n",
    "    \"postgresql+psycopg\",\n",
    "    username=\"postgres\",\n",
    "    password=\"postgres\",  # plain (unescaped) text\n",
    "    host=\"postgres\",\n",
    "    port=\"5432\",\n",
    "    database=\"postgres\",\n",
    "    query={\"options\": \"-c search_path=public\"},\n",
    ")\n",
    "engine = create_engine(url_object)\n",
    "\n",
    "df_store = pd.read_sql('store', engine, index_col=0)\n",
    "\n",
    "df_store.query('prefecture_cd != \"13\" & floor_area <= 900').equals(df_store.query('not(prefecture_cd == \"13\" | floor_area > 900)'))"
   ]
  },
  {
   "cell_type": "markdown",
   "id": "3bb871f3-b1b1-4cd5-8a39-b262dca58288",
   "metadata": {},
   "source": [
    "P-010: 店舗データ（df_store）から、店舗コード（store_cd）が\"S14\"で始まるものだけ全項目抽出し、10件表示せよ。"
   ]
  },
  {
   "cell_type": "code",
   "execution_count": null,
   "id": "a0a0fe7e-fb14-497d-8ea6-723c2fb763c0",
   "metadata": {},
   "outputs": [],
   "source": []
  },
  {
   "cell_type": "markdown",
   "id": "b4ce58ce-a3f6-46f2-b398-5fe15e12b9db",
   "metadata": {},
   "source": [
    "P-011: 顧客データ（df_customer）から顧客ID（customer_id）の末尾が1のものだけ全項目抽出し、10件表示せよ。"
   ]
  },
  {
   "cell_type": "code",
   "execution_count": null,
   "id": "a00ba94a-9d8a-4761-b80a-e3022459a11f",
   "metadata": {},
   "outputs": [],
   "source": []
  },
  {
   "cell_type": "markdown",
   "id": "67a103b1-fc42-4009-a696-2142b56f28f2",
   "metadata": {},
   "source": [
    "P-012: 店舗データ（df_store）から、住所 (address) に\"横浜市\"が含まれるものだけ全項目表示せよ。"
   ]
  },
  {
   "cell_type": "code",
   "execution_count": null,
   "id": "e8ed7a46-8b00-4774-9135-a43a805fc938",
   "metadata": {},
   "outputs": [],
   "source": []
  },
  {
   "cell_type": "markdown",
   "id": "ca3f99e0-c815-491e-8b8e-c7696ac04151",
   "metadata": {},
   "source": [
    "P-013: 顧客データ（df_customer）から、ステータスコード（status_cd）の先頭がアルファベットのA〜Fで始まるデータを全項目抽出し、10件表示せよ。"
   ]
  },
  {
   "cell_type": "code",
   "execution_count": null,
   "id": "5e170a19-7e7d-47e7-a46a-1b51b67daab6",
   "metadata": {},
   "outputs": [],
   "source": []
  },
  {
   "cell_type": "markdown",
   "id": "01285c87-928f-4f29-b554-7a542c7caa47",
   "metadata": {},
   "source": [
    "P-014: 顧客データ（df_customer）から、ステータスコード（status_cd）の末尾が数字の1〜9で終わるデータを全項目抽出し、10件表示せよ。"
   ]
  },
  {
   "cell_type": "code",
   "execution_count": null,
   "id": "bab99b71-4b2b-40d1-89d7-4cbbee88317f",
   "metadata": {},
   "outputs": [],
   "source": []
  },
  {
   "cell_type": "markdown",
   "id": "64a307f7-c1d1-48c6-8659-ef3242067349",
   "metadata": {},
   "source": [
    "P-015: 顧客データ（df_customer）から、ステータスコード（status_cd）の先頭がアルファベットのA〜Fで始まり、末尾が数字の1〜9で終わるデータを全項目抽出し、10件表示せよ。"
   ]
  },
  {
   "cell_type": "code",
   "execution_count": null,
   "id": "e2198c4b-c7c7-4677-bf06-3401332be68a",
   "metadata": {},
   "outputs": [],
   "source": []
  },
  {
   "cell_type": "markdown",
   "id": "db177c5c-d2da-40eb-b615-277074a5e66f",
   "metadata": {},
   "source": [
    "P-016: 店舗データ（df_store）から、電話番号（tel_no）が3桁-3桁-4桁のデータを全項目表示せよ。"
   ]
  },
  {
   "cell_type": "code",
   "execution_count": null,
   "id": "c63e6fea-d88f-410e-9e21-b3570d10b0c7",
   "metadata": {},
   "outputs": [],
   "source": []
  },
  {
   "cell_type": "markdown",
   "id": "e180c089-a25d-4edd-bad4-7352bb7d427f",
   "metadata": {},
   "source": [
    "P-017: 顧客データ（df_customer）を生年月日（birth_day）で高齢順にソートし、先頭から全項目を10件表示せよ。"
   ]
  },
  {
   "cell_type": "code",
   "execution_count": null,
   "id": "3b6fe778-1285-424f-abb3-c6bcba061a7b",
   "metadata": {},
   "outputs": [],
   "source": []
  },
  {
   "cell_type": "markdown",
   "id": "5b5e29b4-cecf-42de-96f6-35729be94767",
   "metadata": {},
   "source": [
    "P-018: 顧客データ（df_customer）を生年月日（birth_day）で若い順にソートし、先頭から全項目を10件表示せよ。"
   ]
  },
  {
   "cell_type": "code",
   "execution_count": null,
   "id": "68d99676-fec0-46e9-a8c0-4811b5cb0cdc",
   "metadata": {},
   "outputs": [],
   "source": []
  },
  {
   "cell_type": "markdown",
   "id": "bab92f7e-fcc2-4b3d-9427-9c6bf228562a",
   "metadata": {},
   "source": [
    "P-019: レシート明細データ（df_receipt）に対し、1件あたりの売上金額（amount）が高い順にランクを付与し、先頭から10件表示せよ。項目は顧客ID（customer_id）、売上金額（amount）、付与したランクを表示させること。なお、売上金額（amount）が等しい場合は同一順位を付与するものとする。"
   ]
  },
  {
   "cell_type": "code",
   "execution_count": null,
   "id": "8bf22c04-1f53-4d34-a292-ce85cbafb204",
   "metadata": {},
   "outputs": [],
   "source": []
  }
 ],
 "metadata": {
  "kernelspec": {
   "display_name": "Python 3 (ipykernel)",
   "language": "python",
   "name": "python3"
  },
  "language_info": {
   "codemirror_mode": {
    "name": "ipython",
    "version": 3
   },
   "file_extension": ".py",
   "mimetype": "text/x-python",
   "name": "python",
   "nbconvert_exporter": "python",
   "pygments_lexer": "ipython3",
   "version": "3.12.8"
  }
 },
 "nbformat": 4,
 "nbformat_minor": 5
}
