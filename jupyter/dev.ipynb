{
 "cells": [
  {
   "cell_type": "code",
   "execution_count": 1,
   "id": "f538c944-6a0a-47d6-9aac-635549357d72",
   "metadata": {},
   "outputs": [],
   "source": [
    "from typing import Optional\n",
    "from enum import Enum\n",
    "\n",
    "from sqlalchemy import (\n",
    "create_engine, URL, Column, Date, Integer, Numeric, SmallInteger, String, Table,\n",
    "ForeignKeyConstraint, PrimaryKeyConstraint, select, func\n",
    ")\n",
    "from sqlalchemy.orm import sessionmaker, mapped_column, Mapped, declarative_base, relationship\n",
    "from sqlalchemy.orm.base import Mapped"
   ]
  },
  {
   "cell_type": "code",
   "execution_count": 2,
   "id": "95f6fde7-52fa-404b-8906-b3a7b08e3b84",
   "metadata": {},
   "outputs": [],
   "source": [
    "Base = declarative_base()\n",
    "metadata = Base.metadata"
   ]
  },
  {
   "cell_type": "code",
   "execution_count": 3,
   "id": "80ce071e-5d48-4b77-9da0-52c84ad7d8cb",
   "metadata": {},
   "outputs": [],
   "source": [
    "class Receipt(Base):\n",
    "    __tablename__ = 'receipt'\n",
    "    __table_args__ = (\n",
    "        #ForeignKeyConstraint(['product_cd'], ['product.product_cd'], name='receipt_product_fk'),\n",
    "        #ForeignKeyConstraint(['store_cd'], ['store.store_cd'], name='receipt_store_fk'),\n",
    "        PrimaryKeyConstraint('sales_ymd', 'store_cd', 'receipt_no', 'receipt_sub_no', name='receipt_pk'),\n",
    "    )\n",
    "\n",
    "    sales_ymd = mapped_column(Integer, nullable=False)\n",
    "    store_cd = mapped_column(String(6), nullable=False)\n",
    "    receipt_no = mapped_column(SmallInteger, nullable=False)\n",
    "    receipt_sub_no = mapped_column(SmallInteger, nullable=False)\n",
    "    sales_epoch = mapped_column(Integer)\n",
    "    customer_id = mapped_column(String(14))\n",
    "    product_cd = mapped_column(String(10))\n",
    "    quantity = mapped_column(Integer)\n",
    "    amount = mapped_column(Integer)\n",
    "\n",
    "    #product: Mapped[Optional['Product']] = relationship('Product', back_populates='receipt')\n",
    "    #store: Mapped['Store'] = relationship('Store', back_populates='receipt')\n",
    "\n",
    "    def __str__(self):\n",
    "        return f'{self.customer_id} bought {self.product_cd} at {self.store_cd}'"
   ]
  },
  {
   "cell_type": "code",
   "execution_count": 4,
   "id": "318db38e-b72c-4a3a-95e2-2d48f6f6532e",
   "metadata": {},
   "outputs": [],
   "source": [
    "url_object = URL.create(\n",
    "    \"postgresql+psycopg\",\n",
    "    username=\"postgres\",\n",
    "    password=\"postgres\",  # plain (unescaped) text\n",
    "    host=\"postgres\",\n",
    "    port=\"5432\",\n",
    "    database=\"postgres\",\n",
    "    query={\"options\": \"-c search_path=public\"},\n",
    ")\n",
    "\n",
    "engine = create_engine(url_object)\n",
    "\n",
    "SessionLocal = sessionmaker(engine)"
   ]
  },
  {
   "cell_type": "code",
   "execution_count": 5,
   "id": "7783f7ac-5da2-468a-bc2d-b636f50e4733",
   "metadata": {},
   "outputs": [],
   "source": [
    "class ReceiptColumn(str, Enum):\n",
    "    sales_ymd = 'sales_ymd'\n",
    "    store_cd = 'store_cd'\n",
    "    receipt_no = 'receipt_no'\n",
    "    receipt_sub_no = 'receipt_sub_no'"
   ]
  },
  {
   "cell_type": "code",
   "execution_count": 6,
   "id": "5e7550ce-9e1a-4fe5-a866-f4cf173f1cf6",
   "metadata": {},
   "outputs": [],
   "source": [
    "class Customer(Base):\n",
    "    __tablename__ = 'customer'\n",
    "    __table_args__ = (\n",
    "        #ForeignKeyConstraint(['application_store_cd'], ['store.store_cd'], name='customer_store_fk'),\n",
    "        PrimaryKeyConstraint('customer_id', name='customer_pk'),\n",
    "    )\n",
    "    \n",
    "    customer_id = mapped_column(String(14))\n",
    "    customer_name = mapped_column(String(20))\n",
    "    gender_cd = mapped_column(String(1))\n",
    "    gender = mapped_column(String(2))\n",
    "    birth_day = mapped_column(Date)\n",
    "    age = mapped_column(Integer)\n",
    "    postal_cd = mapped_column(String(8))\n",
    "    address = mapped_column(String(128))\n",
    "    application_store_cd = mapped_column(String(6))\n",
    "    application_date = mapped_column(String(8))\n",
    "    status_cd = mapped_column(String(12))\n",
    "\n",
    "    def __str__(self):\n",
    "        return f'{self.customer_name} ({self.birth_day})'"
   ]
  },
  {
   "cell_type": "code",
   "execution_count": 7,
   "id": "0eba7425-31e9-421c-9ef2-5bf70a3beaca",
   "metadata": {},
   "outputs": [],
   "source": [
    "class CustomerColumn(str, Enum):\n",
    "    birth_day = 'birth_day'"
   ]
  },
  {
   "cell_type": "code",
   "execution_count": 8,
   "id": "80fb1c3c-4420-4e67-9850-55f008df36ef",
   "metadata": {},
   "outputs": [],
   "source": [
    "class Store(Base):\n",
    "    __tablename__ = 'store'\n",
    "    __table_args__ = (\n",
    "        PrimaryKeyConstraint('store_cd', name='store_pk'),\n",
    "    )\n",
    "    \n",
    "    store_cd = mapped_column(String(6))\n",
    "    store_name = mapped_column(String(128))\n",
    "    prefecture_cd = mapped_column(String(2))\n",
    "    prefecture = mapped_column(String(5))\n",
    "    address = mapped_column(String(128))\n",
    "    address_kana = mapped_column(String(128))\n",
    "    tel_no = mapped_column(String(20))\n",
    "    longitude = mapped_column(Numeric)\n",
    "    latitude = mapped_column(Numeric)\n",
    "    floor_area = mapped_column(Numeric)"
   ]
  },
  {
   "cell_type": "code",
   "execution_count": 9,
   "id": "45138ebd-b51e-44aa-9a2a-4ce040008c30",
   "metadata": {},
   "outputs": [
    {
     "name": "stdout",
     "output_type": "stream",
     "text": [
      "村山 菜々美 (1928-11-26)\n",
      "吉村 朝陽 (1928-12-14)\n",
      "熊沢 美里 (1929-01-07)\n",
      "内村 拓郎 (1929-01-12)\n",
      "天野 拓郎 (1929-01-15)\n",
      "鶴田 里穂 (1929-01-28)\n",
      "山元 美紀 (1929-02-22)\n",
      "中田 里穂 (1929-04-08)\n",
      "宇野 南朋 (1929-04-09)\n",
      "金谷 恵梨香 (1929-04-09)\n"
     ]
    }
   ],
   "source": [
    "statement = select(Customer).order_by(getattr(Customer, CustomerColumn.birth_day)).limit(10)\n",
    "\n",
    "with SessionLocal() as session:\n",
    "    customers = session.scalars(statement).all()\n",
    "\n",
    "for customer in customers:\n",
    "    print(customer)"
   ]
  },
  {
   "cell_type": "code",
   "execution_count": 10,
   "id": "626bb4c4-b2b6-485c-88f8-c3ea2f84f73e",
   "metadata": {},
   "outputs": [
    {
     "name": "stdout",
     "output_type": "stream",
     "text": [
      "大村 美里 (2007-11-25)\n",
      "福山 はじめ (2007-10-02)\n",
      "柴田 真悠子 (2007-09-17)\n",
      "松井 京子 (2007-08-09)\n",
      "山内 遥 (2007-06-03)\n",
      "小柳 夏希 (2007-04-18)\n",
      "広末 まなみ (2007-03-30)\n",
      "長野 美紀 (2007-03-22)\n",
      "福岡 瞬 (2007-03-10)\n",
      "矢口 莉緒 (2007-03-05)\n"
     ]
    }
   ],
   "source": [
    "statement = select(Customer).order_by(getattr(Customer, CustomerColumn.birth_day).desc()).limit(10)\n",
    "\n",
    "with SessionLocal() as session:\n",
    "    customers = session.scalars(statement).all()\n",
    "\n",
    "for customer in customers:\n",
    "    print(customer)"
   ]
  },
  {
   "cell_type": "code",
   "execution_count": 28,
   "id": "67d1e3d7-44c7-43c4-a62c-558bdfdbd98b",
   "metadata": {},
   "outputs": [],
   "source": [
    "statement = select(\n",
    "    Receipt.customer_id,\n",
    "    func.count().label('receipt_count'),\n",
    "    func.avg(Receipt.amount).label('amount_mean'),\n",
    "    func.avg(Receipt.quantity).label('quantity_min')\n",
    ").group_by(Receipt.customer_id)\n",
    "\n",
    "with SessionLocal() as session:\n",
    "    receipts = session.execute(statement).all()"
   ]
  },
  {
   "cell_type": "code",
   "execution_count": 34,
   "id": "4ce93884-10ff-4d9b-9086-7c89a58e1367",
   "metadata": {},
   "outputs": [
    {
     "data": {
      "text/plain": [
       "{'customer_id': 'CS001311000059',\n",
       " 'receipt_count': 2,\n",
       " 'amount_mean': Decimal('1151.0000000000000000'),\n",
       " 'quantity_min': Decimal('1.00000000000000000000')}"
      ]
     },
     "execution_count": 34,
     "metadata": {},
     "output_type": "execute_result"
    }
   ],
   "source": [
    "receipts[0]._asdict()"
   ]
  },
  {
   "cell_type": "code",
   "execution_count": null,
   "id": "fd63961c-3029-40dc-a97a-7d1fdcd6a41d",
   "metadata": {},
   "outputs": [],
   "source": []
  }
 ],
 "metadata": {
  "kernelspec": {
   "display_name": "Python 3 (ipykernel)",
   "language": "python",
   "name": "python3"
  },
  "language_info": {
   "codemirror_mode": {
    "name": "ipython",
    "version": 3
   },
   "file_extension": ".py",
   "mimetype": "text/x-python",
   "name": "python",
   "nbconvert_exporter": "python",
   "pygments_lexer": "ipython3",
   "version": "3.12.8"
  }
 },
 "nbformat": 4,
 "nbformat_minor": 5
}
